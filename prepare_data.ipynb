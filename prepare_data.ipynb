{
 "cells": [
  {
   "attachments": {},
   "cell_type": "markdown",
   "metadata": {},
   "source": [
    "### Check downloaded videos"
   ]
  },
  {
   "cell_type": "code",
   "execution_count": 1,
   "metadata": {},
   "outputs": [
    {
     "name": "stdout",
     "output_type": "stream",
     "text": [
      "\n",
      "Checking subfolders in path: ../data/ActivityNet_200/training\n",
      "Number of subfolders: 200 in path: ../data/ActivityNet_200/training\n",
      "Top 5 classes:\n",
      "../data/ActivityNet_200/training/Playing_congas 50\n",
      "../data/ActivityNet_200/training/Surfing 45\n",
      "../data/ActivityNet_200/training/Using_parallel_bars 43\n",
      "../data/ActivityNet_200/training/Calf_roping 40\n",
      "../data/ActivityNet_200/training/Using_the_balance_beam 37\n",
      "Bottom 5 classes:\n",
      "../data/ActivityNet_200/training/Decorating_the_Christmas_tree 12\n",
      "../data/ActivityNet_200/training/Cumbia 11\n",
      "../data/ActivityNet_200/training/Painting_furniture 10\n",
      "../data/ActivityNet_200/training/Drinking_beer 9\n",
      "../data/ActivityNet_200/training/Bullfighting 6\n",
      "Number of total videos: 4540\n",
      "\n",
      "Checking subfolders in path: ../data/ActivityNet_200/validation\n",
      "Number of subfolders: 200 in path: ../data/ActivityNet_200/validation\n",
      "Top 5 classes:\n",
      "../data/ActivityNet_200/validation/Playing_congas 25\n",
      "../data/ActivityNet_200/validation/Playing_drums 21\n",
      "../data/ActivityNet_200/validation/Making_a_cake 18\n",
      "../data/ActivityNet_200/validation/Using_parallel_bars 18\n",
      "../data/ActivityNet_200/validation/Hitting_a_pinata 18\n",
      "Bottom 5 classes:\n",
      "../data/ActivityNet_200/validation/Beach_soccer 4\n",
      "../data/ActivityNet_200/validation/Laying_tile 4\n",
      "../data/ActivityNet_200/validation/Ping-pong 4\n",
      "../data/ActivityNet_200/validation/Bullfighting 4\n",
      "../data/ActivityNet_200/validation/Smoking_a_cigarette 2\n",
      "Number of total videos: 2244\n",
      "\n",
      "Checking subfolders in path: ../data/ActivityNet_200/testing\n",
      "Number of subfolders: 0 in path: ../data/ActivityNet_200/testing\n",
      "Number of videos: 2247\n"
     ]
    }
   ],
   "source": [
    "# check how many subfolders are in the folder training, and check how many videos are in each subfolder\n",
    "\n",
    "import os\n",
    "\n",
    "def check_subfolders(path):\n",
    "\n",
    "    print('\\nChecking subfolders in path: ' + path)\n",
    "\n",
    "    subfolders = [f.path for f in os.scandir(path) if f.is_dir()]\n",
    "    print('Number of subfolders: ' + str(len(subfolders)), 'in path: ' + path)\n",
    "\n",
    "    # if no subfolders, count how many videos are in the folder\n",
    "    if len(subfolders) == 0:\n",
    "        files = [f for f in os.listdir(path) if os.path.isfile(os.path.join(path, f))]\n",
    "        files_ct = len(files)\n",
    "        print('Number of videos: ' + str(files_ct))\n",
    "        return\n",
    "\n",
    "    class_ct = dict()\n",
    "    total_videos_ct = 0\n",
    "    for subfolder in subfolders:\n",
    "        \n",
    "        # count number of videos in each subfolder\n",
    "        files = [f for f in os.listdir(subfolder) if os.path.isfile(os.path.join(subfolder, f))]\n",
    "        files_ct = len(files)\n",
    "        total_videos_ct += files_ct\n",
    "        class_ct[subfolder] = files_ct\n",
    "    \n",
    "    # sort class_ct by value\n",
    "    class_ct = {k: v for k, v in sorted(class_ct.items(), key=lambda item: item[1], reverse=True)}\n",
    "\n",
    "    # print top5 and bottom5 classes\n",
    "    print('Top 5 classes:')\n",
    "    for i, (k, v) in enumerate(class_ct.items()):\n",
    "        if i < 5:\n",
    "            print(k, v)\n",
    "    print('Bottom 5 classes:')\n",
    "    for i, (k, v) in enumerate(class_ct.items()):\n",
    "        if i > len(class_ct) - 6:\n",
    "            print(k, v)\n",
    "\n",
    "    print('Number of total videos: ' + str(total_videos_ct))\n",
    "    \n",
    "check_subfolders('../data/ActivityNet_200/training')\n",
    "check_subfolders('../data/ActivityNet_200/validation')\n",
    "check_subfolders('../data/ActivityNet_200/testing')"
   ]
  },
  {
   "attachments": {},
   "cell_type": "markdown",
   "metadata": {},
   "source": [
    "### Sample videos \n",
    "\n",
    "* sample 3 videos in the training and validation folder for testing with CLIP\n",
    "* copy the sampled videos to data/ActivityNet_200_sampled/"
   ]
  },
  {
   "cell_type": "code",
   "execution_count": 7,
   "metadata": {},
   "outputs": [],
   "source": [
    "from tqdm import tqdm\n",
    "import json\n",
    "import os\n",
    "\n",
    "def sample_videos(src_path, dst_path, mode, n_sample = 3):\n",
    "\n",
    "    print('\\nSampling videos from path: ' + src_path)\n",
    "\n",
    "    # randomly sample 3 videos from each subfolder in src_path, and copy them to dst_path\n",
    "    subfolders = [f.path for f in os.scandir(src_path) if f.is_dir()]\n",
    "\n",
    "    src_files = []\n",
    "    dst_files = []\n",
    "    for subfolder in subfolders:\n",
    "        dst_subfolder = dst_path + '/' + subfolder.split('/')[-1]\n",
    "        files = [f for f in os.listdir(subfolder) if os.path.isfile(os.path.join(subfolder, f))]\n",
    "        #print(files[0])\n",
    "        files_ct = len(files)\n",
    "        if files_ct < n_sample:\n",
    "            # add all videos' full path in the subfolder to src_files\n",
    "            for i in range(files_ct):\n",
    "                src_files.append(subfolder + '/' + files[i])\n",
    "                dst_files.append(dst_subfolder + '/' + files[i])\n",
    "        else:            \n",
    "            for i in range(n_sample): # select the first n_sample videos\n",
    "                src_files.append(subfolder + '/' + files[i])\n",
    "                dst_files.append(dst_subfolder + '/' + files[i])\n",
    "    \n",
    "    # save the src_files and dst_files to json files    \n",
    "    with open('output/' + mode + '_src_files.json', 'w') as f:\n",
    "        json.dump(src_files, f, indent=4)\n",
    "\n",
    "    with open('output/' + mode + '_dst_files.json', 'w') as f:\n",
    "        json.dump(dst_files, f, indent=4)\n",
    "\n",
    "    print(src_files[0])\n",
    "    print(dst_files[0])\n",
    "    \n",
    "    # copy videos from src_files to dst_path\n",
    "    for src_file, dst_file in tqdm(zip(src_files, dst_files)):\n",
    "        if not os.path.exists(os.path.dirname(dst_file)):\n",
    "            os.makedirs(os.path.dirname(dst_file))\n",
    "            #print('create folder: ' + os.path.dirname(dst_file))\n",
    "            \n",
    "        os.system('cp ' + src_file + ' ' + dst_file)"
   ]
  },
  {
   "cell_type": "code",
   "execution_count": null,
   "metadata": {},
   "outputs": [],
   "source": [
    "sample_videos('../data/ActivityNet_200/training', '../data/ActivityNet_200_sampled/training', 'training')"
   ]
  },
  {
   "cell_type": "code",
   "execution_count": 8,
   "metadata": {},
   "outputs": [
    {
     "name": "stdout",
     "output_type": "stream",
     "text": [
      "\n",
      "Sampling videos from path: ../data/ActivityNet_200/validation\n",
      "../data/ActivityNet_200/validation/Croquet/gSH5ya0pfko.mp4\n",
      "../data/ActivityNet_200_sampled/validation/Croquet/gSH5ya0pfko.mp4\n"
     ]
    },
    {
     "name": "stderr",
     "output_type": "stream",
     "text": [
      "13it [00:17,  2.49s/it]"
     ]
    }
   ],
   "source": [
    "sample_videos('../data/ActivityNet_200/validation', '../data/ActivityNet_200_sampled/validation', 'validation')"
   ]
  },
  {
   "cell_type": "code",
   "execution_count": null,
   "metadata": {},
   "outputs": [],
   "source": [
    "# check how many videos are in each subfolder\n",
    "check_subfolders('../data/ActivityNet_200_sampled/training')\n",
    "check_subfolders('../data/ActivityNet_200_sampled/validation')"
   ]
  },
  {
   "attachments": {},
   "cell_type": "markdown",
   "metadata": {},
   "source": [
    "### Resize sampled videos\n",
    "* resize sampled videos to short edge = 256 pixels"
   ]
  },
  {
   "attachments": {},
   "cell_type": "markdown",
   "metadata": {},
   "source": [
    "### Extract raw frames\n",
    "* extract frames"
   ]
  },
  {
   "attachments": {},
   "cell_type": "markdown",
   "metadata": {},
   "source": [
    "### Prepare annotations"
   ]
  },
  {
   "cell_type": "code",
   "execution_count": null,
   "metadata": {},
   "outputs": [],
   "source": []
  }
 ],
 "metadata": {
  "kernelspec": {
   "display_name": "tf",
   "language": "python",
   "name": "python3"
  },
  "language_info": {
   "codemirror_mode": {
    "name": "ipython",
    "version": 3
   },
   "file_extension": ".py",
   "mimetype": "text/x-python",
   "name": "python",
   "nbconvert_exporter": "python",
   "pygments_lexer": "ipython3",
   "version": "3.8.16"
  },
  "orig_nbformat": 4
 },
 "nbformat": 4,
 "nbformat_minor": 2
}
