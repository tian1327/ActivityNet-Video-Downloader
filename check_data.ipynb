{
 "cells": [
  {
   "attachments": {},
   "cell_type": "markdown",
   "metadata": {},
   "source": [
    "### Check downloaded videos"
   ]
  },
  {
   "cell_type": "code",
   "execution_count": null,
   "metadata": {},
   "outputs": [],
   "source": [
    "# check how many subfolders are in the folder training, and check how many videos are in each subfolder\n",
    "\n",
    "import os\n",
    "\n",
    "def check_subfolders(path):\n",
    "\n",
    "    print('Checking subfolders in path: ' + path)\n",
    "\n",
    "    subfolders = [f.path for f in os.scandir(path) if f.is_dir()]\n",
    "    print('Number of subfolders: ' + str(len(subfolders)), 'in path: ' + path)\n",
    "\n",
    "    # if no subfolders, count how many videos are in the folder\n",
    "    if len(subfolders) == 0:\n",
    "        files = [f for f in os.listdir(path) if os.path.isfile(os.path.join(path, f))]\n",
    "        files_ct = len(files)\n",
    "        print('Number of videos: ' + str(files_ct), 'in path: ' + path)\n",
    "        return\n",
    "\n",
    "    class_ct = dict()\n",
    "    total_videos_ct = 0\n",
    "    for subfolder in subfolders:\n",
    "        \n",
    "        # count number of videos in each subfolder\n",
    "        files = [f for f in os.listdir(subfolder) if os.path.isfile(os.path.join(subfolder, f))]\n",
    "        files_ct = len(files)\n",
    "        total_videos_ct += files_ct\n",
    "        class_ct[subfolder] = files_ct\n",
    "    \n",
    "    # sort class_ct by value\n",
    "    class_ct = {k: v for k, v in sorted(class_ct.items(), key=lambda item: item[1])}\n",
    "\n",
    "    # print top5 and bottom5 classes\n",
    "    print('Top 5 classes:')\n",
    "    for i, (k, v) in enumerate(class_ct.items()):\n",
    "        if i < 5:\n",
    "            print(k, v)\n",
    "    print('Bottom 5 classes:')\n",
    "    for i, (k, v) in enumerate(class_ct.items()):\n",
    "        if i > len(class_ct) - 6:\n",
    "            print(k, v)\n",
    "\n",
    "    print('Number of total videos: ' + str(total_videos_ct))\n",
    "    \n",
    "check_subfolders('../data/ActivityNet_200/training')\n",
    "check_subfolders('../data/ActivityNet_200/validation')\n",
    "check_subfolders('../data/ActivityNet_200/testing')"
   ]
  },
  {
   "attachments": {},
   "cell_type": "markdown",
   "metadata": {},
   "source": [
    "### Randomly select 10% videos in the training and validation folder for testing with CLIP"
   ]
  },
  {
   "cell_type": "code",
   "execution_count": null,
   "metadata": {},
   "outputs": [],
   "source": []
  }
 ],
 "metadata": {
  "language_info": {
   "name": "python"
  },
  "orig_nbformat": 4
 },
 "nbformat": 4,
 "nbformat_minor": 2
}
