{
 "cells": [
  {
   "attachments": {},
   "cell_type": "markdown",
   "metadata": {},
   "source": [
    "### Check downloaded videos"
   ]
  },
  {
   "cell_type": "code",
   "execution_count": 3,
   "metadata": {},
   "outputs": [
    {
     "name": "stdout",
     "output_type": "stream",
     "text": [
      "\n",
      "Checking subfolders in path: ../data/ActivityNet_200/training\n",
      "Number of subfolders: 200 in path: ../data/ActivityNet_200/training\n",
      "Top 5 classes:\n",
      "../data/ActivityNet_200/training/Playing_congas 46\n",
      "../data/ActivityNet_200/training/Surfing 44\n",
      "../data/ActivityNet_200/training/Using_parallel_bars 40\n",
      "../data/ActivityNet_200/training/Calf_roping 38\n",
      "../data/ActivityNet_200/training/Playing_drums 36\n",
      "Bottom 5 classes:\n",
      "../data/ActivityNet_200/training/Putting_on_shoes 10\n",
      "../data/ActivityNet_200/training/Painting_furniture 10\n",
      "../data/ActivityNet_200/training/Smoking_hookah 10\n",
      "../data/ActivityNet_200/training/Drinking_beer 8\n",
      "../data/ActivityNet_200/training/Bullfighting 6\n",
      "Number of total videos: 4247\n",
      "\n",
      "Checking subfolders in path: ../data/ActivityNet_200/validation\n",
      "Number of subfolders: 200 in path: ../data/ActivityNet_200/validation\n",
      "Top 5 classes:\n",
      "../data/ActivityNet_200/validation/Playing_congas 22\n",
      "../data/ActivityNet_200/validation/Playing_drums 19\n",
      "../data/ActivityNet_200/validation/Making_a_cake 18\n",
      "../data/ActivityNet_200/validation/Using_parallel_bars 18\n",
      "../data/ActivityNet_200/validation/Clean_and_jerk 17\n",
      "Bottom 5 classes:\n",
      "../data/ActivityNet_200/validation/Bullfighting 4\n",
      "../data/ActivityNet_200/validation/Belly_dance 4\n",
      "../data/ActivityNet_200/validation/Bathing_dog 4\n",
      "../data/ActivityNet_200/validation/Laying_tile 3\n",
      "../data/ActivityNet_200/validation/Smoking_a_cigarette 2\n",
      "Number of total videos: 2111\n",
      "\n",
      "Checking subfolders in path: ../data/ActivityNet_200/testing\n",
      "Number of subfolders: 0 in path: ../data/ActivityNet_200/testing\n",
      "Number of videos: 2095\n"
     ]
    }
   ],
   "source": [
    "# check how many subfolders are in the folder training, and check how many videos are in each subfolder\n",
    "\n",
    "import os\n",
    "\n",
    "def check_subfolders(path):\n",
    "\n",
    "    print('\\nChecking subfolders in path: ' + path)\n",
    "\n",
    "    subfolders = [f.path for f in os.scandir(path) if f.is_dir()]\n",
    "    print('Number of subfolders: ' + str(len(subfolders)), 'in path: ' + path)\n",
    "\n",
    "    # if no subfolders, count how many videos are in the folder\n",
    "    if len(subfolders) == 0:\n",
    "        files = [f for f in os.listdir(path) if os.path.isfile(os.path.join(path, f))]\n",
    "        files_ct = len(files)\n",
    "        print('Number of videos: ' + str(files_ct))\n",
    "        return\n",
    "\n",
    "    class_ct = dict()\n",
    "    total_videos_ct = 0\n",
    "    for subfolder in subfolders:\n",
    "        \n",
    "        # count number of videos in each subfolder\n",
    "        files = [f for f in os.listdir(subfolder) if os.path.isfile(os.path.join(subfolder, f))]\n",
    "        files_ct = len(files)\n",
    "        total_videos_ct += files_ct\n",
    "        class_ct[subfolder] = files_ct\n",
    "    \n",
    "    # sort class_ct by value\n",
    "    class_ct = {k: v for k, v in sorted(class_ct.items(), key=lambda item: item[1], reverse=True)}\n",
    "\n",
    "    # print top5 and bottom5 classes\n",
    "    print('Top 5 classes:')\n",
    "    for i, (k, v) in enumerate(class_ct.items()):\n",
    "        if i < 5:\n",
    "            print(k, v)\n",
    "    print('Bottom 5 classes:')\n",
    "    for i, (k, v) in enumerate(class_ct.items()):\n",
    "        if i > len(class_ct) - 6:\n",
    "            print(k, v)\n",
    "\n",
    "    print('Number of total videos: ' + str(total_videos_ct))\n",
    "    \n",
    "check_subfolders('../data/ActivityNet_200/training')\n",
    "check_subfolders('../data/ActivityNet_200/validation')\n",
    "check_subfolders('../data/ActivityNet_200/testing')"
   ]
  },
  {
   "attachments": {},
   "cell_type": "markdown",
   "metadata": {},
   "source": [
    "### Randomly sample videos \n",
    "\n",
    "* sample 3 videos in the training and validation folder for testing with CLIP\n",
    "* copy the sampled videos to data/ActivityNet_200_sample/"
   ]
  },
  {
   "cell_type": "code",
   "execution_count": null,
   "metadata": {},
   "outputs": [],
   "source": [
    "def sample_videos(src_path, dst_path):\n",
    "\n",
    "    print('\\nSampling videos from path: ' + src_path)\n",
    "\n",
    "    \n",
    "\n",
    "sample_videos('../data/ActivityNet_200/training', '../data/ActivityNet_200/training_sampled')"
   ]
  }
 ],
 "metadata": {
  "kernelspec": {
   "display_name": "tf",
   "language": "python",
   "name": "python3"
  },
  "language_info": {
   "codemirror_mode": {
    "name": "ipython",
    "version": 3
   },
   "file_extension": ".py",
   "mimetype": "text/x-python",
   "name": "python",
   "nbconvert_exporter": "python",
   "pygments_lexer": "ipython3",
   "version": "3.8.16"
  },
  "orig_nbformat": 4
 },
 "nbformat": 4,
 "nbformat_minor": 2
}
